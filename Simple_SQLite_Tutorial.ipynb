{
 "cells": [
  {
   "cell_type": "code",
   "execution_count": 5,
   "metadata": {},
   "outputs": [],
   "source": [
    "# pre build no installation required\n",
    "import sqlite3"
   ]
  },
  {
   "cell_type": "code",
   "execution_count": 6,
   "metadata": {},
   "outputs": [],
   "source": [
    "# create a connection to database\n",
    "# returns a connection object representing the connection to the on-disk database\n",
    "con = sqlite3.connect('test.db')"
   ]
  },
  {
   "cell_type": "code",
   "execution_count": 7,
   "metadata": {},
   "outputs": [
    {
     "data": {
      "text/plain": [
       "('PLANET',)"
      ]
     },
     "execution_count": 7,
     "metadata": {},
     "output_type": "execute_result"
    }
   ],
   "source": [
    "# create a cursor to fetch or query db through sql queries\n",
    "cur = con.cursor()\n",
    "# specifying data type here is optional \n",
    "dummy_table = '''\n",
    "\n",
    "    CREATE TABLE IF NOT EXISTS PLANET(name, color, planet_id)\n",
    "\n",
    "'''\n",
    "\n",
    "# check sqlite_master table for the new table we created \n",
    "query = '''\n",
    "    SELECT name from SQLITE_MASTER\n",
    "'''\n",
    "res = cur.execute(query)\n",
    "res.fetchone()"
   ]
  },
  {
   "cell_type": "code",
   "execution_count": 8,
   "metadata": {},
   "outputs": [
    {
     "data": {
      "text/plain": [
       "<sqlite3.Cursor at 0x1df8cea9040>"
      ]
     },
     "execution_count": 8,
     "metadata": {},
     "output_type": "execute_result"
    }
   ],
   "source": [
    "# Let's use execute many method to insert some records into the 'PLANET' table\n",
    "rows = [\n",
    "    ('Alpha', 'Red', 1),\n",
    "    ('Beta', 'Blue', 2),\n",
    "    ('Gamma', 'Green', 3),\n",
    "]\n",
    "\n",
    "cur.executemany('INSERT INTO PLANET VALUES(?, ?, ?)',rows)\n"
   ]
  },
  {
   "cell_type": "code",
   "execution_count": 9,
   "metadata": {},
   "outputs": [],
   "source": [
    "# An insert opens a transtion so we should commit the details to save it\n",
    "con.commit()"
   ]
  },
  {
   "cell_type": "code",
   "execution_count": 10,
   "metadata": {},
   "outputs": [
    {
     "name": "stdout",
     "output_type": "stream",
     "text": [
      "The planet Alpha is of Red color.\n",
      "The planet Beta is of Blue color.\n",
      "The planet Gamma is of Green color.\n"
     ]
    }
   ],
   "source": [
    "# cur.execute() returns a tuple which we can use assign variable in a order\n",
    "for name,color in cur.execute('SELECT name,color FROM PLANET'):\n",
    "    print(f'The planet {name} is of {color} color.')\n"
   ]
  },
  {
   "cell_type": "code",
   "execution_count": 11,
   "metadata": {},
   "outputs": [],
   "source": [
    "# Remember to close the connection obj when not needed anymore\n",
    "# Close the database connection. Any pending transaction is not committed implicitly; \n",
    "# make sure to commit() before closing to avoid losing pending changes.\n",
    "con.close()"
   ]
  },
  {
   "cell_type": "code",
   "execution_count": 12,
   "metadata": {},
   "outputs": [
    {
     "name": "stdout",
     "output_type": "stream",
     "text": [
      "('Alpha', 'Red')\n"
     ]
    }
   ],
   "source": [
    "# The context manager can be used to ensure\n",
    "# that any transactions occurring on the connection are rolled back \n",
    "# if any exception occurs, or committed otherwise.\n",
    "# Useful for DELETE, UPDATE and INSERT queries for instance.\n",
    "    \n",
    "\n",
    "with sqlite3.connect('test.db') as conn:\n",
    "    cur = conn.cursor()\n",
    "    res = cur.execute('SELECT name,color FROM PLANET')\n",
    "    print(res.fetchone())\n"
   ]
  }
 ],
 "metadata": {
  "kernelspec": {
   "display_name": "Python 3",
   "language": "python",
   "name": "python3"
  },
  "language_info": {
   "codemirror_mode": {
    "name": "ipython",
    "version": 3
   },
   "file_extension": ".py",
   "mimetype": "text/x-python",
   "name": "python",
   "nbconvert_exporter": "python",
   "pygments_lexer": "ipython3",
   "version": "3.10.5"
  },
  "orig_nbformat": 4,
  "vscode": {
   "interpreter": {
    "hash": "e3bd4b319e635a96a029828d654385b023686714cf83c375149a7d14da202a45"
   }
  }
 },
 "nbformat": 4,
 "nbformat_minor": 2
}
